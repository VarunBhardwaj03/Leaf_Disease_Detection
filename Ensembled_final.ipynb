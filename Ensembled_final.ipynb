{
 "cells": [
  {
   "cell_type": "code",
   "execution_count": 1,
   "id": "855c22e9",
   "metadata": {
    "_cell_guid": "b1076dfc-b9ad-4769-8c92-a6c4dae69d19",
    "_uuid": "8f2839f25d086af736a60e9eeb907d3b93b6e0e5",
    "execution": {
     "iopub.execute_input": "2021-12-18T15:43:56.219499Z",
     "iopub.status.busy": "2021-12-18T15:43:56.218193Z",
     "iopub.status.idle": "2021-12-18T15:43:56.221201Z",
     "shell.execute_reply": "2021-12-18T15:43:56.220634Z"
    },
    "papermill": {
     "duration": 0.015376,
     "end_time": "2021-12-18T15:43:56.221353",
     "exception": false,
     "start_time": "2021-12-18T15:43:56.205977",
     "status": "completed"
    },
    "tags": []
   },
   "outputs": [],
   "source": [
    "# This Python 3 environment comes with many helpful analytics libraries installed\n",
    "# It is defined by the kaggle/python Docker image: https://github.com/kaggle/docker-python\n",
    "# For example, here's several helpful packages to load\n",
    "\n",
    "# import numpy as np # linear algebra\n",
    "# import pandas as pd # data processing, CSV file I/O (e.g. pd.read_csv)\n",
    "\n",
    "# # Input data files are available in the read-only \"../input/\" directory\n",
    "# # For example, running this (by clicking run or pressing Shift+Enter) will list all files under the input directory\n",
    "\n",
    "# import os\n",
    "# for dirname, _, filenames in os.walk('/kaggle/input'):\n",
    "#     for filename in filenames:\n",
    "#         print(os.path.join(dirname, filename))\n",
    "\n",
    "# You can write up to 20GB to the current directory (/kaggle/working/) that gets preserved as output when you create a version using \"Save & Run All\" \n",
    "# You can also write temporary files to /kaggle/temp/, but they won't be saved outside of the current session"
   ]
  },
  {
   "cell_type": "code",
   "execution_count": 2,
   "id": "ad02af61",
   "metadata": {
    "execution": {
     "iopub.execute_input": "2021-12-18T15:43:56.236007Z",
     "iopub.status.busy": "2021-12-18T15:43:56.235331Z",
     "iopub.status.idle": "2021-12-18T15:44:03.782147Z",
     "shell.execute_reply": "2021-12-18T15:44:03.781591Z",
     "shell.execute_reply.started": "2021-12-18T15:41:58.343616Z"
    },
    "papermill": {
     "duration": 7.553952,
     "end_time": "2021-12-18T15:44:03.782321",
     "exception": false,
     "start_time": "2021-12-18T15:43:56.228369",
     "status": "completed"
    },
    "tags": []
   },
   "outputs": [],
   "source": [
    "import numpy as np\n",
    "import pandas as pd\n",
    "import matplotlib.pyplot as plt\n",
    "import seaborn as sns\n",
    "import os\n",
    "import tensorflow as tf\n",
    "import cv2\n",
    "import glob\n",
    "from tensorflow.keras.preprocessing import image\n",
    "from tensorflow.keras.models import Model\n",
    "from tensorflow.keras.layers import Dense, GlobalAveragePooling2D,Flatten\n",
    "from tensorflow.keras.models import Sequential\n",
    "from tensorflow.keras.layers import Conv2D, MaxPool2D, Flatten, Dense, Dropout, BatchNormalization\n",
    "from keras.callbacks import ModelCheckpoint, EarlyStopping, ReduceLROnPlateau\n"
   ]
  },
  {
   "cell_type": "code",
   "execution_count": 3,
   "id": "eda3eb44",
   "metadata": {
    "execution": {
     "iopub.execute_input": "2021-12-18T15:44:03.800474Z",
     "iopub.status.busy": "2021-12-18T15:44:03.799624Z",
     "iopub.status.idle": "2021-12-18T15:44:05.792510Z",
     "shell.execute_reply": "2021-12-18T15:44:05.793382Z",
     "shell.execute_reply.started": "2021-12-18T15:42:06.183150Z"
    },
    "papermill": {
     "duration": 2.005906,
     "end_time": "2021-12-18T15:44:05.793661",
     "exception": false,
     "start_time": "2021-12-18T15:44:03.787755",
     "status": "completed"
    },
    "tags": []
   },
   "outputs": [
    {
     "name": "stdout",
     "output_type": "stream",
     "text": [
      "Found 4981 images belonging to 1 classes.\n"
     ]
    }
   ],
   "source": [
    "from keras.preprocessing.image import ImageDataGenerator as IDG\n",
    "test_datagen=IDG(rescale=1/255)\n",
    "test_df=test_datagen.flow_from_directory(\"../input/iitg-ai-2/test_images\",shuffle=False,\n",
    "                                         target_size=(300,300))\n"
   ]
  },
  {
   "cell_type": "code",
   "execution_count": 4,
   "id": "109fcebd",
   "metadata": {
    "execution": {
     "iopub.execute_input": "2021-12-18T15:44:05.810118Z",
     "iopub.status.busy": "2021-12-18T15:44:05.809372Z",
     "iopub.status.idle": "2021-12-18T15:44:05.848522Z",
     "shell.execute_reply": "2021-12-18T15:44:05.849089Z",
     "shell.execute_reply.started": "2021-12-18T15:42:11.202326Z"
    },
    "papermill": {
     "duration": 0.048556,
     "end_time": "2021-12-18T15:44:05.849291",
     "exception": false,
     "start_time": "2021-12-18T15:44:05.800735",
     "status": "completed"
    },
    "tags": []
   },
   "outputs": [],
   "source": [
    "pred1=np.load('../input/efficientnet/EfficientNetB3 (1).npy')\n",
    "pred2=np.load('../input/mobilnet/densenet.npy')\n",
    "pred3=np.load('../input/mobilnet/resnet.npy')\n",
    "pred=(pred1+pred2+pred3)/3"
   ]
  },
  {
   "cell_type": "code",
   "execution_count": 5,
   "id": "bf3b5ae6",
   "metadata": {
    "execution": {
     "iopub.execute_input": "2021-12-18T15:44:05.864334Z",
     "iopub.status.busy": "2021-12-18T15:44:05.863622Z",
     "iopub.status.idle": "2021-12-18T15:44:05.905947Z",
     "shell.execute_reply": "2021-12-18T15:44:05.904877Z",
     "shell.execute_reply.started": "2021-12-18T15:43:19.346592Z"
    },
    "papermill": {
     "duration": 0.050911,
     "end_time": "2021-12-18T15:44:05.906123",
     "exception": false,
     "start_time": "2021-12-18T15:44:05.855212",
     "status": "completed"
    },
    "tags": []
   },
   "outputs": [
    {
     "data": {
      "text/html": [
       "<div>\n",
       "<style scoped>\n",
       "    .dataframe tbody tr th:only-of-type {\n",
       "        vertical-align: middle;\n",
       "    }\n",
       "\n",
       "    .dataframe tbody tr th {\n",
       "        vertical-align: top;\n",
       "    }\n",
       "\n",
       "    .dataframe thead th {\n",
       "        text-align: right;\n",
       "    }\n",
       "</style>\n",
       "<table border=\"1\" class=\"dataframe\">\n",
       "  <thead>\n",
       "    <tr style=\"text-align: right;\">\n",
       "      <th></th>\n",
       "      <th>image_id</th>\n",
       "      <th>label</th>\n",
       "    </tr>\n",
       "  </thead>\n",
       "  <tbody>\n",
       "    <tr>\n",
       "      <th>0</th>\n",
       "      <td>3286502189</td>\n",
       "      <td>3</td>\n",
       "    </tr>\n",
       "    <tr>\n",
       "      <th>1</th>\n",
       "      <td>3286807982</td>\n",
       "      <td>3</td>\n",
       "    </tr>\n",
       "    <tr>\n",
       "      <th>2</th>\n",
       "      <td>3287098987</td>\n",
       "      <td>3</td>\n",
       "    </tr>\n",
       "    <tr>\n",
       "      <th>3</th>\n",
       "      <td>3287200393</td>\n",
       "      <td>3</td>\n",
       "    </tr>\n",
       "    <tr>\n",
       "      <th>4</th>\n",
       "      <td>3287300042</td>\n",
       "      <td>3</td>\n",
       "    </tr>\n",
       "  </tbody>\n",
       "</table>\n",
       "</div>"
      ],
      "text/plain": [
       "     image_id  label\n",
       "0  3286502189      3\n",
       "1  3286807982      3\n",
       "2  3287098987      3\n",
       "3  3287200393      3\n",
       "4  3287300042      3"
      ]
     },
     "execution_count": 5,
     "metadata": {},
     "output_type": "execute_result"
    }
   ],
   "source": [
    "filenames=test_df.filenames\n",
    "result_final=pd.DataFrame({\"image_id\":filenames,\"label\":np.argmax(pred,axis=1)})\n",
    "result_final['image_id']=result_final['image_id'].map(lambda x: x.lstrip('test_images/').rstrip('.jpg'))\n",
    "result_final.to_csv(\"results_final.csv\",index=False)\n",
    "result_final.head()"
   ]
  },
  {
   "cell_type": "code",
   "execution_count": null,
   "id": "f19503a4",
   "metadata": {
    "papermill": {
     "duration": 0.00556,
     "end_time": "2021-12-18T15:44:05.917616",
     "exception": false,
     "start_time": "2021-12-18T15:44:05.912056",
     "status": "completed"
    },
    "tags": []
   },
   "outputs": [],
   "source": []
  }
 ],
 "metadata": {
  "kernelspec": {
   "display_name": "Python 3",
   "language": "python",
   "name": "python3"
  },
  "language_info": {
   "codemirror_mode": {
    "name": "ipython",
    "version": 3
   },
   "file_extension": ".py",
   "mimetype": "text/x-python",
   "name": "python",
   "nbconvert_exporter": "python",
   "pygments_lexer": "ipython3",
   "version": "3.7.12"
  },
  "papermill": {
   "default_parameters": {},
   "duration": 22.712909,
   "end_time": "2021-12-18T15:44:09.484645",
   "environment_variables": {},
   "exception": null,
   "input_path": "__notebook__.ipynb",
   "output_path": "__notebook__.ipynb",
   "parameters": {},
   "start_time": "2021-12-18T15:43:46.771736",
   "version": "2.3.3"
  }
 },
 "nbformat": 4,
 "nbformat_minor": 5
}
